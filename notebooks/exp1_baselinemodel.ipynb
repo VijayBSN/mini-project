{
 "cells": [
  {
   "cell_type": "code",
   "execution_count": null,
   "metadata": {
    "vscode": {
     "languageId": "plaintext"
    }
   },
   "outputs": [],
   "source": [
    "import mlflow\n",
    "import pandas as pd \n",
    "import mlflow.sklearn \n",
    "from sklearn.feature_extraction.txt import CountVectorizer \n",
    "from sklearn.model_selection import train_test_split\n",
    "from sklearn.linear_model import Logisticregression\n",
    "from sklearn.metrics import accuracy_score, precision_score,f1_score\n",
    "import re\n",
    "import string\n",
    "from nltk.corpus import stopwords\n",
    "from nltk.stem import WordNetLemmatizer\n",
    "import numpy as np"
   ]
  }
 ],
 "metadata": {
  "language_info": {
   "name": "python"
  }
 },
 "nbformat": 4,
 "nbformat_minor": 2
}
